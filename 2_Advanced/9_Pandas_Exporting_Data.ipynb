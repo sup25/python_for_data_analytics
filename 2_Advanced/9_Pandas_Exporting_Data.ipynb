{
 "cells": [
  {
   "cell_type": "code",
   "execution_count": 8,
   "id": "e8c9dfc8",
   "metadata": {},
   "outputs": [],
   "source": [
    "# Importing Libraries\n",
    "import pandas as pd\n",
    "from datasets import load_dataset\n",
    "import matplotlib.pyplot as plt  \n",
    "\n",
    "# Loading Data\n",
    "dataset = load_dataset('lukebarousse/data_jobs')\n",
    "df = dataset['train'].to_pandas()\n",
    "\n",
    "# Data Cleanup\n",
    "df['job_posted_date'] = pd.to_datetime(df['job_posted_date'])"
   ]
  },
  {
   "cell_type": "markdown",
   "id": "52b7bf51",
   "metadata": {},
   "source": [
    "# Notes\n",
    "- to_csv(): Export DataFrame to CSV file.\n",
    "- to_excel(): Export DataFrame to Excel file.\n",
    "- to_sql(): Export DataFrame to SQL database.\n",
    "- to_parquet(): Export DataFrame to a parquet file.\n",
    "    - Parquet is a columnar storage file format that is designed for efficient data storage and retrieval."
   ]
  },
  {
   "cell_type": "code",
   "execution_count": 9,
   "id": "134add0d",
   "metadata": {},
   "outputs": [],
   "source": [
    "# Saving the DataFrame to a CSV file\n",
    "df.to_csv('jobs_data.csv', index=False)"
   ]
  },
  {
   "cell_type": "code",
   "execution_count": null,
   "id": "bb2d1462",
   "metadata": {},
   "outputs": [],
   "source": [
    "# Reading the CSV file to verify the data\n",
    "df = pd.read_csv('jobs_data.csv')\n",
    "df"
   ]
  },
  {
   "cell_type": "code",
   "execution_count": null,
   "id": "6cd5ae49",
   "metadata": {},
   "outputs": [],
   "source": [
    "# Saving the DataFrame to an Excel file\n",
    "df.to_excel('jobs_data.xlsx', index=False)"
   ]
  },
  {
   "cell_type": "code",
   "execution_count": null,
   "id": "8bd4cc9a",
   "metadata": {},
   "outputs": [],
   "source": [
    "# Reading the Excel file into a DataFrame\n",
    "df = pd.read_excel('jobs_data.xlsx')\n",
    "\n",
    "# Display the data\n",
    "print(df)"
   ]
  }
 ],
 "metadata": {
  "kernelspec": {
   "display_name": "venv",
   "language": "python",
   "name": "python3"
  },
  "language_info": {
   "codemirror_mode": {
    "name": "ipython",
    "version": 3
   },
   "file_extension": ".py",
   "mimetype": "text/x-python",
   "name": "python",
   "nbconvert_exporter": "python",
   "pygments_lexer": "ipython3",
   "version": "3.12.4"
  }
 },
 "nbformat": 4,
 "nbformat_minor": 5
}
